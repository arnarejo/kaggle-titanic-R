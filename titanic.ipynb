{
 "cells": [
  {
   "cell_type": "markdown",
   "metadata": {},
   "source": [
    "# Solving Kaggle Titanic problem in R"
   ]
  },
  {
   "cell_type": "markdown",
   "metadata": {},
   "source": [
    "## 1. Introduction\n",
    "The sinking of the RMS Titanic is one of the most infamous shipwrecks in history.  On April 15, 1912, during her maiden voyage, the Titanic sank after colliding with an iceberg, killing 1502 out of 2224 passengers and crew. Although there was some element of luck involved in surviving the sinking, some groups of people were more likely to survive than others, such as women, children, and the upper-class.\n",
    "\n",
    "In this challenge, we are asked to analyse what sorts of people were likely to survive. In particular, we apply the tools of machine learning to predict which passengers survived the tragedy. "
   ]
  },
  {
   "cell_type": "markdown",
   "metadata": {},
   "source": [
    "## 2. Load the necessary packages"
   ]
  },
  {
   "cell_type": "code",
   "execution_count": 76,
   "metadata": {},
   "outputs": [],
   "source": [
    "# load required libraries\n",
    "library(tidyverse) # tidyverse includes ggplot2, tibble, tidyr, readr\n",
    "library(rpart) # decision tree\n",
    "library(randomForest) # random forest"
   ]
  },
  {
   "cell_type": "markdown",
   "metadata": {},
   "source": [
    "## 3. Load the necessary data\n",
    "Train and test data are provided by Kaggle site."
   ]
  },
  {
   "cell_type": "code",
   "execution_count": 77,
   "metadata": {},
   "outputs": [],
   "source": [
    "# load 'train.csv' data\n",
    "train <- read.csv(\"train.csv\")\n",
    "\n",
    "# load 'test.csv' data\n",
    "test <- read.csv(\"test.csv\")\n",
    "\n",
    "test$Survived <- NA"
   ]
  },
  {
   "cell_type": "markdown",
   "metadata": {},
   "source": [
    "## 4. Combine Train and Test Data and view\n",
    "The training data will be used to train the model which will be used to predict survival rate on testing data. It is imperative that both training and test data are consistent and the consistent rules are used to fill missing values in both."
   ]
  },
  {
   "cell_type": "code",
   "execution_count": 78,
   "metadata": {},
   "outputs": [
    {
     "name": "stdout",
     "output_type": "stream",
     "text": [
      "'data.frame':\t1309 obs. of  12 variables:\n",
      " $ PassengerId: int  1 2 3 4 5 6 7 8 9 10 ...\n",
      " $ Survived   : int  0 1 1 1 0 0 0 0 1 1 ...\n",
      " $ Pclass     : int  3 1 3 1 3 3 1 3 3 2 ...\n",
      " $ Name       : Factor w/ 1307 levels \"Abbing, Mr. Anthony\",..: 109 191 358 277 16 559 520 629 417 581 ...\n",
      " $ Sex        : Factor w/ 2 levels \"female\",\"male\": 2 1 1 1 2 2 2 2 1 1 ...\n",
      " $ Age        : num  22 38 26 35 35 NA 54 2 27 14 ...\n",
      " $ SibSp      : int  1 1 0 1 0 0 0 3 0 1 ...\n",
      " $ Parch      : int  0 0 0 0 0 0 0 1 2 0 ...\n",
      " $ Ticket     : Factor w/ 929 levels \"110152\",\"110413\",..: 524 597 670 50 473 276 86 396 345 133 ...\n",
      " $ Fare       : num  7.25 71.28 7.92 53.1 8.05 ...\n",
      " $ Cabin      : Factor w/ 187 levels \"\",\"A10\",\"A14\",..: 1 83 1 57 1 1 131 1 1 1 ...\n",
      " $ Embarked   : Factor w/ 4 levels \"\",\"C\",\"Q\",\"S\": 4 2 4 4 4 3 4 4 4 2 ...\n"
     ]
    }
   ],
   "source": [
    "# combine train and test data\n",
    "combined <- rbind(train, test)\n",
    "str(combined)"
   ]
  },
  {
   "cell_type": "markdown",
   "metadata": {},
   "source": [
    "## 5. Check for Missing Values"
   ]
  },
  {
   "cell_type": "code",
   "execution_count": 79,
   "metadata": {},
   "outputs": [
    {
     "data": {
      "text/html": [
       "<dl class=dl-horizontal>\n",
       "\t<dt>PassengerId</dt>\n",
       "\t\t<dd>0</dd>\n",
       "\t<dt>Survived</dt>\n",
       "\t\t<dd>418</dd>\n",
       "\t<dt>Pclass</dt>\n",
       "\t\t<dd>0</dd>\n",
       "\t<dt>Name</dt>\n",
       "\t\t<dd>0</dd>\n",
       "\t<dt>Sex</dt>\n",
       "\t\t<dd>0</dd>\n",
       "\t<dt>Age</dt>\n",
       "\t\t<dd>263</dd>\n",
       "\t<dt>SibSp</dt>\n",
       "\t\t<dd>0</dd>\n",
       "\t<dt>Parch</dt>\n",
       "\t\t<dd>0</dd>\n",
       "\t<dt>Ticket</dt>\n",
       "\t\t<dd>0</dd>\n",
       "\t<dt>Fare</dt>\n",
       "\t\t<dd>1</dd>\n",
       "\t<dt>Cabin</dt>\n",
       "\t\t<dd>0</dd>\n",
       "\t<dt>Embarked</dt>\n",
       "\t\t<dd>0</dd>\n",
       "</dl>\n"
      ],
      "text/latex": [
       "\\begin{description*}\n",
       "\\item[PassengerId] 0\n",
       "\\item[Survived] 418\n",
       "\\item[Pclass] 0\n",
       "\\item[Name] 0\n",
       "\\item[Sex] 0\n",
       "\\item[Age] 263\n",
       "\\item[SibSp] 0\n",
       "\\item[Parch] 0\n",
       "\\item[Ticket] 0\n",
       "\\item[Fare] 1\n",
       "\\item[Cabin] 0\n",
       "\\item[Embarked] 0\n",
       "\\end{description*}\n"
      ],
      "text/markdown": [
       "PassengerId\n",
       ":   0Survived\n",
       ":   418Pclass\n",
       ":   0Name\n",
       ":   0Sex\n",
       ":   0Age\n",
       ":   263SibSp\n",
       ":   0Parch\n",
       ":   0Ticket\n",
       ":   0Fare\n",
       ":   1Cabin\n",
       ":   0Embarked\n",
       ":   0\n",
       "\n"
      ],
      "text/plain": [
       "PassengerId    Survived      Pclass        Name         Sex         Age \n",
       "          0         418           0           0           0         263 \n",
       "      SibSp       Parch      Ticket        Fare       Cabin    Embarked \n",
       "          0           0           0           1           0           0 "
      ]
     },
     "metadata": {},
     "output_type": "display_data"
    }
   ],
   "source": [
    "# check for missing values\n",
    "sapply(combined, function(x) sum(is.na(x)))"
   ]
  },
  {
   "cell_type": "code",
   "execution_count": 80,
   "metadata": {},
   "outputs": [],
   "source": [
    "# remove cabin column due to high missing values\n",
    "combined$Cabin <- NULL"
   ]
  },
  {
   "cell_type": "code",
   "execution_count": 81,
   "metadata": {},
   "outputs": [
    {
     "data": {
      "text/html": [
       "<ol class=list-inline>\n",
       "\t<li>62</li>\n",
       "\t<li>830</li>\n",
       "</ol>\n"
      ],
      "text/latex": [
       "\\begin{enumerate*}\n",
       "\\item 62\n",
       "\\item 830\n",
       "\\end{enumerate*}\n"
      ],
      "text/markdown": [
       "1. 62\n",
       "2. 830\n",
       "\n",
       "\n"
      ],
      "text/plain": [
       "[1]  62 830"
      ]
     },
     "metadata": {},
     "output_type": "display_data"
    }
   ],
   "source": [
    "# check which Embarked values are missing\n",
    "which(combined$Embarked == \"\")"
   ]
  },
  {
   "cell_type": "code",
   "execution_count": 82,
   "metadata": {},
   "outputs": [],
   "source": [
    "# set missing Embarked values to \"S\"\n",
    "combined$Embarked[which(combined$Embarked == \"\")] <- \"S\""
   ]
  },
  {
   "cell_type": "code",
   "execution_count": 83,
   "metadata": {},
   "outputs": [],
   "source": [
    "combined$Fare[is.na(combined$Fare)] <- round(mean(combined$Fare, na.rm = TRUE), 4)"
   ]
  },
  {
   "cell_type": "markdown",
   "metadata": {},
   "source": [
    "## 6. Calculate mean ages for different groups of passengers"
   ]
  },
  {
   "cell_type": "code",
   "execution_count": 84,
   "metadata": {},
   "outputs": [
    {
     "name": "stdout",
     "output_type": "stream",
     "text": [
      "[1] \"average age of male passenger\"\n"
     ]
    },
    {
     "data": {
      "text/html": [
       "31"
      ],
      "text/latex": [
       "31"
      ],
      "text/markdown": [
       "31"
      ],
      "text/plain": [
       "[1] 31"
      ]
     },
     "metadata": {},
     "output_type": "display_data"
    },
    {
     "name": "stdout",
     "output_type": "stream",
     "text": [
      "[1] \"average age of female passenger\"\n"
     ]
    },
    {
     "data": {
      "text/html": [
       "29"
      ],
      "text/latex": [
       "29"
      ],
      "text/markdown": [
       "29"
      ],
      "text/plain": [
       "[1] 29"
      ]
     },
     "metadata": {},
     "output_type": "display_data"
    },
    {
     "name": "stdout",
     "output_type": "stream",
     "text": [
      "[1] \"average age of male passenger with Mr title\"\n"
     ]
    },
    {
     "data": {
      "text/html": [
       "32"
      ],
      "text/latex": [
       "32"
      ],
      "text/markdown": [
       "32"
      ],
      "text/plain": [
       "[1] 32"
      ]
     },
     "metadata": {},
     "output_type": "display_data"
    },
    {
     "name": "stdout",
     "output_type": "stream",
     "text": [
      "[1] \"average age of female passenger with Mrs title\"\n"
     ]
    },
    {
     "data": {
      "text/html": [
       "37"
      ],
      "text/latex": [
       "37"
      ],
      "text/markdown": [
       "37"
      ],
      "text/plain": [
       "[1] 37"
      ]
     },
     "metadata": {},
     "output_type": "display_data"
    },
    {
     "name": "stdout",
     "output_type": "stream",
     "text": [
      "[1] \"average age of female passenger with Miss title\"\n"
     ]
    },
    {
     "data": {
      "text/html": [
       "22"
      ],
      "text/latex": [
       "22"
      ],
      "text/markdown": [
       "22"
      ],
      "text/plain": [
       "[1] 22"
      ]
     },
     "metadata": {},
     "output_type": "display_data"
    },
    {
     "name": "stdout",
     "output_type": "stream",
     "text": [
      "[1] \"average age of passenger with Master title\"\n"
     ]
    },
    {
     "data": {
      "text/html": [
       "5"
      ],
      "text/latex": [
       "5"
      ],
      "text/markdown": [
       "5"
      ],
      "text/plain": [
       "[1] 5"
      ]
     },
     "metadata": {},
     "output_type": "display_data"
    }
   ],
   "source": [
    "# average age of male passenger\n",
    "avg_male_age <- combined %>%\n",
    "    filter(!is.na(Age)) %>%\n",
    "    filter(Sex == \"male\") %>%\n",
    "    summarize(round(mean(Age)))\n",
    "\n",
    "print(\"average age of male passenger\")\n",
    "\n",
    "avg_male_age[[1]]\n",
    "\n",
    "# average age of a female passenger\n",
    "avg_female_age <- combined %>%\n",
    "    filter(!is.na(Age)) %>%\n",
    "    filter(Sex == \"female\") %>%\n",
    "    summarize(round(mean(Age)))\n",
    "\n",
    "print(\"average age of female passenger\")\n",
    "avg_female_age[[1]]\n",
    "\n",
    "# average age male passenger with Mr title\n",
    "avg_mr_age <- combined %>%\n",
    "    filter(!is.na(Age)) %>%\n",
    "    filter(str_detect(Name, fixed(\"Mr.\"))) %>%\n",
    "    summarize(round(mean(Age)))\n",
    "\n",
    "print(\"average age of male passenger with Mr title\")\n",
    "\n",
    "avg_mr_age[[1]]\n",
    "\n",
    "# average age of female passenger with Mr title\n",
    "avg_mrs_age <- combined %>%\n",
    "    filter(!is.na(Age)) %>%\n",
    "    filter(str_detect(Name, fixed(\"Mrs.\"))) %>%\n",
    "    summarize(round(mean(Age)))\n",
    "\n",
    "print(\"average age of female passenger with Mrs title\")\n",
    "\n",
    "avg_mrs_age[[1]]\n",
    "\n",
    "# average age of female passenger with Miss title\n",
    "avg_miss_age <- combined %>%\n",
    "    filter(!is.na(Age)) %>%\n",
    "    filter(str_detect(Name, fixed(\"Miss.\"))) %>%\n",
    "    summarize(round(mean(Age)))\n",
    "\n",
    "print(\"average age of female passenger with Miss title\")\n",
    "\n",
    "avg_miss_age[[1]]\n",
    "\n",
    "# average age of passenger with Master title\n",
    "avg_master_age <- combined %>%\n",
    "    filter(!is.na(Age)) %>%\n",
    "    filter(Sex == \"male\" & str_detect(Name, fixed(\"Master.\"))) %>%\n",
    "    summarize(round(mean(Age)))\n",
    "\n",
    "print(\"average age of passenger with Master title\")\n",
    "\n",
    "avg_master_age[[1]]"
   ]
  },
  {
   "cell_type": "markdown",
   "metadata": {},
   "source": [
    "## 7. Fill missing age values with average age of similar group passengers"
   ]
  },
  {
   "cell_type": "code",
   "execution_count": 85,
   "metadata": {},
   "outputs": [],
   "source": [
    "# set missing age for passengers with Mr. title according to average age of available passengers with same title\n",
    "combined$Age[is.na(combined$Age) & combined$Sex == \"male\" & (str_detect(combined$Name, fixed(\"Mr.\")) | str_detect(combined$Name, fixed(\"Dr.\")) )] <- avg_mr_age[[1]]\n",
    "\n",
    "# set missing age for passengers with Mrs. title according to average age of available passengers with same title\n",
    "combined$Age[is.na(combined$Age) & combined$Sex == \"female\" & str_detect(combined$Name, fixed(\"Mrs.\"))] <- avg_mrs_age[[1]]\n",
    "\n",
    "# set missing age for passengers with Mrs. title according to average age of available passengers with same title\n",
    "combined$Age[is.na(combined$Age) & combined$Sex == \"female\" & (str_detect(combined$Name, fixed(\"Miss.\")) | str_detect(combined$Name, fixed(\"Ms.\")))] <- avg_miss_age[[1]]\n",
    "\n",
    "# set missing age for passengers with Master. title according to average age of available passengers with same title\n",
    "combined$Age[is.na(combined$Age) & combined$Sex == \"male\" & str_detect(combined$Name, fixed(\"Master.\"))] <- avg_master_age[[1]]"
   ]
  },
  {
   "cell_type": "markdown",
   "metadata": {},
   "source": [
    "## 8. Factor engineering - classify passengers on the basis of their age\n",
    "\"Ladies and children first\".\n",
    "A simple group of passengers by age shows younger passengers had higher chance of surival than other passengers. Hence, It is probably helpful to divide passengers on the basis of age. This will require some factor engineering.\n",
    "All passengers below the age 18 have been assigned a value of 1 for Child column."
   ]
  },
  {
   "cell_type": "code",
   "execution_count": 86,
   "metadata": {},
   "outputs": [],
   "source": [
    "# factor engineering - Classify as child if age 18 or below\n",
    "combined$Child <- 0\n",
    "combined$Child[combined$Age <= 18] <- 1"
   ]
  },
  {
   "cell_type": "code",
   "execution_count": 87,
   "metadata": {},
   "outputs": [
    {
     "data": {
      "text/html": [
       "<dl class=dl-horizontal>\n",
       "\t<dt>PassengerId</dt>\n",
       "\t\t<dd>0</dd>\n",
       "\t<dt>Survived</dt>\n",
       "\t\t<dd>418</dd>\n",
       "\t<dt>Pclass</dt>\n",
       "\t\t<dd>0</dd>\n",
       "\t<dt>Name</dt>\n",
       "\t\t<dd>0</dd>\n",
       "\t<dt>Sex</dt>\n",
       "\t\t<dd>0</dd>\n",
       "\t<dt>Age</dt>\n",
       "\t\t<dd>0</dd>\n",
       "\t<dt>SibSp</dt>\n",
       "\t\t<dd>0</dd>\n",
       "\t<dt>Parch</dt>\n",
       "\t\t<dd>0</dd>\n",
       "\t<dt>Ticket</dt>\n",
       "\t\t<dd>0</dd>\n",
       "\t<dt>Fare</dt>\n",
       "\t\t<dd>0</dd>\n",
       "\t<dt>Embarked</dt>\n",
       "\t\t<dd>0</dd>\n",
       "\t<dt>Child</dt>\n",
       "\t\t<dd>0</dd>\n",
       "</dl>\n"
      ],
      "text/latex": [
       "\\begin{description*}\n",
       "\\item[PassengerId] 0\n",
       "\\item[Survived] 418\n",
       "\\item[Pclass] 0\n",
       "\\item[Name] 0\n",
       "\\item[Sex] 0\n",
       "\\item[Age] 0\n",
       "\\item[SibSp] 0\n",
       "\\item[Parch] 0\n",
       "\\item[Ticket] 0\n",
       "\\item[Fare] 0\n",
       "\\item[Embarked] 0\n",
       "\\item[Child] 0\n",
       "\\end{description*}\n"
      ],
      "text/markdown": [
       "PassengerId\n",
       ":   0Survived\n",
       ":   418Pclass\n",
       ":   0Name\n",
       ":   0Sex\n",
       ":   0Age\n",
       ":   0SibSp\n",
       ":   0Parch\n",
       ":   0Ticket\n",
       ":   0Fare\n",
       ":   0Embarked\n",
       ":   0Child\n",
       ":   0\n",
       "\n"
      ],
      "text/plain": [
       "PassengerId    Survived      Pclass        Name         Sex         Age \n",
       "          0         418           0           0           0           0 \n",
       "      SibSp       Parch      Ticket        Fare    Embarked       Child \n",
       "          0           0           0           0           0           0 "
      ]
     },
     "metadata": {},
     "output_type": "display_data"
    }
   ],
   "source": [
    "# check for any other missing values\n",
    "combined %>%\n",
    "    sapply(function(x) sum(is.na(x)))"
   ]
  },
  {
   "cell_type": "markdown",
   "metadata": {},
   "source": [
    "## 9 - Separate Training and Testing data"
   ]
  },
  {
   "cell_type": "code",
   "execution_count": 88,
   "metadata": {},
   "outputs": [],
   "source": [
    "# separate train and test data sets\n",
    "train <- combined[1:891,]\n",
    "test <- combined[892:1309,]\n",
    "rownames(test) <- NULL"
   ]
  },
  {
   "cell_type": "code",
   "execution_count": 89,
   "metadata": {},
   "outputs": [
    {
     "data": {
      "text/html": [
       "<table>\n",
       "<thead><tr><th scope=col>Sex</th><th scope=col>mean</th></tr></thead>\n",
       "<tbody>\n",
       "\t<tr><td>female   </td><td>0.7420382</td></tr>\n",
       "\t<tr><td>male     </td><td>0.1889081</td></tr>\n",
       "</tbody>\n",
       "</table>\n"
      ],
      "text/latex": [
       "\\begin{tabular}{r|ll}\n",
       " Sex & mean\\\\\n",
       "\\hline\n",
       "\t female    & 0.7420382\\\\\n",
       "\t male      & 0.1889081\\\\\n",
       "\\end{tabular}\n"
      ],
      "text/markdown": [
       "\n",
       "Sex | mean | \n",
       "|---|---|\n",
       "| female    | 0.7420382 | \n",
       "| male      | 0.1889081 | \n",
       "\n",
       "\n"
      ],
      "text/plain": [
       "  Sex    mean     \n",
       "1 female 0.7420382\n",
       "2 male   0.1889081"
      ]
     },
     "metadata": {},
     "output_type": "display_data"
    }
   ],
   "source": [
    "train %>%\n",
    "    group_by(Sex) %>%\n",
    "    summarize(mean = mean(Survived))"
   ]
  },
  {
   "cell_type": "code",
   "execution_count": 90,
   "metadata": {},
   "outputs": [
    {
     "data": {
      "text/html": [
       "<table>\n",
       "<thead><tr><th scope=col>Pclass</th><th scope=col>Sex</th><th scope=col>mean(Survived)</th></tr></thead>\n",
       "<tbody>\n",
       "\t<tr><td>1        </td><td>female   </td><td>0.9680851</td></tr>\n",
       "\t<tr><td>1        </td><td>male     </td><td>0.3688525</td></tr>\n",
       "\t<tr><td>2        </td><td>female   </td><td>0.9210526</td></tr>\n",
       "\t<tr><td>2        </td><td>male     </td><td>0.1574074</td></tr>\n",
       "\t<tr><td>3        </td><td>female   </td><td>0.5000000</td></tr>\n",
       "\t<tr><td>3        </td><td>male     </td><td>0.1354467</td></tr>\n",
       "</tbody>\n",
       "</table>\n"
      ],
      "text/latex": [
       "\\begin{tabular}{r|lll}\n",
       " Pclass & Sex & mean(Survived)\\\\\n",
       "\\hline\n",
       "\t 1         & female    & 0.9680851\\\\\n",
       "\t 1         & male      & 0.3688525\\\\\n",
       "\t 2         & female    & 0.9210526\\\\\n",
       "\t 2         & male      & 0.1574074\\\\\n",
       "\t 3         & female    & 0.5000000\\\\\n",
       "\t 3         & male      & 0.1354467\\\\\n",
       "\\end{tabular}\n"
      ],
      "text/markdown": [
       "\n",
       "Pclass | Sex | mean(Survived) | \n",
       "|---|---|---|---|---|---|\n",
       "| 1         | female    | 0.9680851 | \n",
       "| 1         | male      | 0.3688525 | \n",
       "| 2         | female    | 0.9210526 | \n",
       "| 2         | male      | 0.1574074 | \n",
       "| 3         | female    | 0.5000000 | \n",
       "| 3         | male      | 0.1354467 | \n",
       "\n",
       "\n"
      ],
      "text/plain": [
       "  Pclass Sex    mean(Survived)\n",
       "1 1      female 0.9680851     \n",
       "2 1      male   0.3688525     \n",
       "3 2      female 0.9210526     \n",
       "4 2      male   0.1574074     \n",
       "5 3      female 0.5000000     \n",
       "6 3      male   0.1354467     "
      ]
     },
     "metadata": {},
     "output_type": "display_data"
    }
   ],
   "source": [
    "train %>%\n",
    "    group_by(Pclass, Sex) %>%\n",
    "    summarize(mean(Survived))\n",
    "# Female passengers in Pclass1 and Pclass2 had near full chance of survival"
   ]
  },
  {
   "cell_type": "markdown",
   "metadata": {},
   "source": [
    "## 10 - Predicting survival rate"
   ]
  },
  {
   "cell_type": "markdown",
   "metadata": {},
   "source": [
    "### 10.1 - everyone dies"
   ]
  },
  {
   "cell_type": "code",
   "execution_count": 91,
   "metadata": {},
   "outputs": [],
   "source": [
    "test$Survived <- 0\n",
    "submit <- data.frame(PassengerId = test$PassengerId, Survived = test$Survived)\n",
    "write.csv(submit, file = \"submission-1.csv\", row.names = FALSE)"
   ]
  },
  {
   "cell_type": "markdown",
   "metadata": {},
   "source": [
    "**score - 0.62679**\n",
    "The results are generally in line with the overall survival rate on titanic."
   ]
  },
  {
   "cell_type": "markdown",
   "metadata": {},
   "source": [
    "### 10.2 - all females survived, all males died"
   ]
  },
  {
   "cell_type": "code",
   "execution_count": 92,
   "metadata": {},
   "outputs": [],
   "source": [
    "test$Survived <- 0\n",
    "test$Survived[test$Sex == \"female\"] <- 1\n",
    "submit <- data.frame(PassengerId = test$PassengerId, Survived = test$Survived)\n",
    "write.csv(submit, file = \"submission-2.csv\", row.names = FALSE)"
   ]
  },
  {
   "cell_type": "code",
   "execution_count": null,
   "metadata": {},
   "outputs": [],
   "source": [
    "**score - 0.76555**\n",
    "Improvement on the initial score."
   ]
  },
  {
   "cell_type": "markdown",
   "metadata": {},
   "source": [
    "### 10.3 - all females in Pclass1 and 2 Survived, everyone else died"
   ]
  },
  {
   "cell_type": "code",
   "execution_count": 93,
   "metadata": {},
   "outputs": [],
   "source": [
    "test$Survived <- 0\n",
    "test$Survived[test$Sex == \"female\" & test$Pclass == 1] <- 1\n",
    "test$Survived[test$Sex == \"female\" & test$Pclass == 2] <- 1\n",
    "submit <- data.frame(PassengerId = test$PassengerId, Survived = test$Survived)\n",
    "write.csv(submit, file = \"submission-3.csv\", row.names = FALSE)"
   ]
  },
  {
   "cell_type": "code",
   "execution_count": null,
   "metadata": {},
   "outputs": [],
   "source": [
    "**score - 0.75598**\n",
    "It does not improve on all female surival rate but generally better not significantly inferior to all female survival rate."
   ]
  },
  {
   "cell_type": "markdown",
   "metadata": {},
   "source": [
    "### 10.4 - using decision tree classifier"
   ]
  },
  {
   "cell_type": "code",
   "execution_count": 94,
   "metadata": {},
   "outputs": [],
   "source": [
    "my_tree <- rpart(Survived ~ \n",
    "                 Pclass + Sex + Age + SibSp + Parch + Fare + Embarked, data = train, method = \"class\")\n",
    "\n",
    "prediction <- predict(my_tree, test, type = \"class\")\n",
    "solution <- data.frame(PassengerId = test$PassengerId, Survived = prediction)\n",
    "write.csv(solution, file = \"submission-4.csv\", row.names = FALSE)"
   ]
  },
  {
   "cell_type": "markdown",
   "metadata": {},
   "source": [
    "**Score - 0.79904**\n",
    "This improves score at 85th percentile on Kaggle. Signficiant improvement on initial numbers."
   ]
  },
  {
   "cell_type": "markdown",
   "metadata": {},
   "source": [
    "### 10.5 - Random Forest"
   ]
  },
  {
   "cell_type": "code",
   "execution_count": 443,
   "metadata": {},
   "outputs": [],
   "source": [
    "# Set seed for reproducibility\n",
    "set.seed(111)\n",
    "\n",
    "# Apply the Random Forest Algorithm\n",
    "my_forest <- randomForest(as.factor(Survived) ~ Pclass + Sex + Age + SibSp + Parch + Fare + Embarked,\n",
    "                          data = train, importance = TRUE, ntree = 1000)\n",
    "\n",
    "prediction <- predict(my_forest, test)\n",
    "\n",
    "solution <- data.frame(PassengerId = test$PassengerId, Survived = prediction)\n",
    "\n",
    "write.csv(solution, file = \"submission-5.csv\", row.names = FALSE)"
   ]
  },
  {
   "cell_type": "code",
   "execution_count": null,
   "metadata": {},
   "outputs": [],
   "source": [
    "**Score - 0.7655**\n",
    "Not better than decision tree classifier"
   ]
  }
 ],
 "metadata": {
  "kernelspec": {
   "display_name": "R",
   "language": "R",
   "name": "ir"
  },
  "language_info": {
   "codemirror_mode": "r",
   "file_extension": ".r",
   "mimetype": "text/x-r-source",
   "name": "R",
   "pygments_lexer": "r",
   "version": "3.4.3"
  }
 },
 "nbformat": 4,
 "nbformat_minor": 2
}
